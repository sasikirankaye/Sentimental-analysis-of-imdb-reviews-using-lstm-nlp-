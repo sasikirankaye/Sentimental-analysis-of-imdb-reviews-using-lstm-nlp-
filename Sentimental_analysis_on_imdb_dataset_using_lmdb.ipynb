{
  "nbformat": 4,
  "nbformat_minor": 0,
  "metadata": {
    "colab": {
      "name": "Sentimental analysis on imdb dataset using lmdb.ipynb",
      "provenance": []
    },
    "kernelspec": {
      "name": "python3",
      "display_name": "Python 3"
    }
  },
  "cells": [
    {
      "cell_type": "markdown",
      "metadata": {
        "id": "2xObENFK9jez",
        "colab_type": "text"
      },
      "source": [
        "# Define libraries"
      ]
    },
    {
      "cell_type": "code",
      "metadata": {
        "id": "4U7zqfsy9duM",
        "colab_type": "code",
        "colab": {}
      },
      "source": [
        "import numpy as np\n",
        "import pandas as pd\n",
        "import keras"
      ],
      "execution_count": 2,
      "outputs": []
    },
    {
      "cell_type": "code",
      "metadata": {
        "id": "rDLSF-Tf9xJm",
        "colab_type": "code",
        "colab": {}
      },
      "source": [
        "from keras.datasets import imdb\n",
        "from keras.models import Sequential\n",
        "from keras.layers import LSTM\n",
        "from keras.layers import Dense\n",
        "from keras.layers.embeddings import Embedding\n",
        "from keras.preprocessing import sequence\n",
        "np.random.seed(7)# fix random seed for reproducability "
      ],
      "execution_count": 3,
      "outputs": []
    },
    {
      "cell_type": "markdown",
      "metadata": {
        "id": "K01aelzQ-r-Z",
        "colab_type": "text"
      },
      "source": [
        "# load the top 500 words in the dataset"
      ]
    },
    {
      "cell_type": "code",
      "metadata": {
        "id": "_uq4zr-7-wDV",
        "colab_type": "code",
        "colab": {}
      },
      "source": [
        "top_words=500\n",
        "(X_train,y_train),(X_test,y_test)=imdb.load_data(num_words=top_words)"
      ],
      "execution_count": 5,
      "outputs": []
    },
    {
      "cell_type": "markdown",
      "metadata": {
        "id": "4qMgAi9RAMEH",
        "colab_type": "text"
      },
      "source": [
        "# lets look at the indices of the first review of the X_train and length of the review"
      ]
    },
    {
      "cell_type": "code",
      "metadata": {
        "id": "DTipRs2H_6Y5",
        "colab_type": "code",
        "colab": {
          "base_uri": "https://localhost:8080/",
          "height": 72
        },
        "outputId": "25002328-fe5a-408e-8bf2-89267f86e45c"
      },
      "source": [
        "print(X_train[1])\n",
        "print(len(X_train[1]))"
      ],
      "execution_count": 7,
      "outputs": [
        {
          "output_type": "stream",
          "text": [
            "[1, 194, 2, 194, 2, 78, 228, 5, 6, 2, 2, 2, 134, 26, 4, 2, 8, 118, 2, 14, 394, 20, 13, 119, 2, 189, 102, 5, 207, 110, 2, 21, 14, 69, 188, 8, 30, 23, 7, 4, 249, 126, 93, 4, 114, 9, 2, 2, 5, 2, 4, 116, 9, 35, 2, 4, 229, 9, 340, 2, 4, 118, 9, 4, 130, 2, 19, 4, 2, 5, 89, 29, 2, 46, 37, 4, 455, 9, 45, 43, 38, 2, 2, 398, 4, 2, 26, 2, 5, 163, 11, 2, 2, 4, 2, 9, 194, 2, 7, 2, 2, 349, 2, 148, 2, 2, 2, 15, 123, 125, 68, 2, 2, 15, 349, 165, 2, 98, 5, 4, 228, 9, 43, 2, 2, 15, 299, 120, 5, 120, 174, 11, 220, 175, 136, 50, 9, 2, 228, 2, 5, 2, 2, 245, 2, 5, 4, 2, 131, 152, 491, 18, 2, 32, 2, 2, 14, 9, 6, 371, 78, 22, 2, 64, 2, 9, 8, 168, 145, 23, 4, 2, 15, 16, 4, 2, 5, 28, 6, 52, 154, 462, 33, 89, 78, 285, 16, 145, 95]\n",
            "189\n"
          ],
          "name": "stdout"
        }
      ]
    },
    {
      "cell_type": "markdown",
      "metadata": {
        "id": "O_bVjCzwCCnc",
        "colab_type": "text"
      },
      "source": [
        "# padding the sequences"
      ]
    },
    {
      "cell_type": "code",
      "metadata": {
        "id": "PIDoLEadCGXR",
        "colab_type": "code",
        "colab": {}
      },
      "source": [
        "max_review_length=600\n",
        "X_train=sequence.pad_sequences(X_train,maxlen=max_review_length)\n",
        "X_test=sequence.pad_sequences(X_test,maxlen=max_review_length)"
      ],
      "execution_count": 8,
      "outputs": []
    },
    {
      "cell_type": "code",
      "metadata": {
        "id": "xwgjWu4-CkOB",
        "colab_type": "code",
        "colab": {
          "base_uri": "https://localhost:8080/",
          "height": 34
        },
        "outputId": "b5ae445e-0013-4fee-c794-69f75503d451"
      },
      "source": [
        "print(X_train.shape)"
      ],
      "execution_count": 9,
      "outputs": [
        {
          "output_type": "stream",
          "text": [
            "(25000, 600)\n"
          ],
          "name": "stdout"
        }
      ]
    },
    {
      "cell_type": "code",
      "metadata": {
        "id": "STcq1NXnCoqx",
        "colab_type": "code",
        "colab": {
          "base_uri": "https://localhost:8080/",
          "height": 621
        },
        "outputId": "5e5e31aa-02af-4ff8-ee4f-5e550f0e9118"
      },
      "source": [
        "print(X_train[1])"
      ],
      "execution_count": 10,
      "outputs": [
        {
          "output_type": "stream",
          "text": [
            "[  0   0   0   0   0   0   0   0   0   0   0   0   0   0   0   0   0   0\n",
            "   0   0   0   0   0   0   0   0   0   0   0   0   0   0   0   0   0   0\n",
            "   0   0   0   0   0   0   0   0   0   0   0   0   0   0   0   0   0   0\n",
            "   0   0   0   0   0   0   0   0   0   0   0   0   0   0   0   0   0   0\n",
            "   0   0   0   0   0   0   0   0   0   0   0   0   0   0   0   0   0   0\n",
            "   0   0   0   0   0   0   0   0   0   0   0   0   0   0   0   0   0   0\n",
            "   0   0   0   0   0   0   0   0   0   0   0   0   0   0   0   0   0   0\n",
            "   0   0   0   0   0   0   0   0   0   0   0   0   0   0   0   0   0   0\n",
            "   0   0   0   0   0   0   0   0   0   0   0   0   0   0   0   0   0   0\n",
            "   0   0   0   0   0   0   0   0   0   0   0   0   0   0   0   0   0   0\n",
            "   0   0   0   0   0   0   0   0   0   0   0   0   0   0   0   0   0   0\n",
            "   0   0   0   0   0   0   0   0   0   0   0   0   0   0   0   0   0   0\n",
            "   0   0   0   0   0   0   0   0   0   0   0   0   0   0   0   0   0   0\n",
            "   0   0   0   0   0   0   0   0   0   0   0   0   0   0   0   0   0   0\n",
            "   0   0   0   0   0   0   0   0   0   0   0   0   0   0   0   0   0   0\n",
            "   0   0   0   0   0   0   0   0   0   0   0   0   0   0   0   0   0   0\n",
            "   0   0   0   0   0   0   0   0   0   0   0   0   0   0   0   0   0   0\n",
            "   0   0   0   0   0   0   0   0   0   0   0   0   0   0   0   0   0   0\n",
            "   0   0   0   0   0   0   0   0   0   0   0   0   0   0   0   0   0   0\n",
            "   0   0   0   0   0   0   0   0   0   0   0   0   0   0   0   0   0   0\n",
            "   0   0   0   0   0   0   0   0   0   0   0   0   0   0   0   0   0   0\n",
            "   0   0   0   0   0   0   0   0   0   0   0   0   0   0   0   0   0   0\n",
            "   0   0   0   0   0   0   0   0   0   0   0   0   0   0   0   1 194   2\n",
            " 194   2  78 228   5   6   2   2   2 134  26   4   2   8 118   2  14 394\n",
            "  20  13 119   2 189 102   5 207 110   2  21  14  69 188   8  30  23   7\n",
            "   4 249 126  93   4 114   9   2   2   5   2   4 116   9  35   2   4 229\n",
            "   9 340   2   4 118   9   4 130   2  19   4   2   5  89  29   2  46  37\n",
            "   4 455   9  45  43  38   2   2 398   4   2  26   2   5 163  11   2   2\n",
            "   4   2   9 194   2   7   2   2 349   2 148   2   2   2  15 123 125  68\n",
            "   2   2  15 349 165   2  98   5   4 228   9  43   2   2  15 299 120   5\n",
            " 120 174  11 220 175 136  50   9   2 228   2   5   2   2 245   2   5   4\n",
            "   2 131 152 491  18   2  32   2   2  14   9   6 371  78  22   2  64   2\n",
            "   9   8 168 145  23   4   2  15  16   4   2   5  28   6  52 154 462  33\n",
            "  89  78 285  16 145  95]\n"
          ],
          "name": "stdout"
        }
      ]
    },
    {
      "cell_type": "markdown",
      "metadata": {
        "id": "qLgYW72FENIb",
        "colab_type": "text"
      },
      "source": [
        "# build the model"
      ]
    },
    {
      "cell_type": "code",
      "metadata": {
        "id": "33hUOTcTEPJO",
        "colab_type": "code",
        "colab": {
          "base_uri": "https://localhost:8080/",
          "height": 283
        },
        "outputId": "d525d76c-d95f-455f-847d-ea9763d71694"
      },
      "source": [
        "embedding_vector_length=32\n",
        "model=Sequential()\n",
        "model.add(Embedding(top_words,embedding_vector_length,input_length=max_review_length))\n",
        "model.add(LSTM(100))\n",
        "model.add(Dense(1,activation='sigmoid'))\n",
        "model.compile(loss='binary_crossentropy',optimizer='adam',metrics=['accuracy'])\n",
        "print(model.summary())"
      ],
      "execution_count": 11,
      "outputs": [
        {
          "output_type": "stream",
          "text": [
            "Model: \"sequential\"\n",
            "_________________________________________________________________\n",
            "Layer (type)                 Output Shape              Param #   \n",
            "=================================================================\n",
            "embedding (Embedding)        (None, 600, 32)           16000     \n",
            "_________________________________________________________________\n",
            "lstm (LSTM)                  (None, 100)               53200     \n",
            "_________________________________________________________________\n",
            "dense (Dense)                (None, 1)                 101       \n",
            "=================================================================\n",
            "Total params: 69,301\n",
            "Trainable params: 69,301\n",
            "Non-trainable params: 0\n",
            "_________________________________________________________________\n",
            "None\n"
          ],
          "name": "stdout"
        }
      ]
    },
    {
      "cell_type": "code",
      "metadata": {
        "id": "8yqY5J5JKjI5",
        "colab_type": "code",
        "colab": {
          "base_uri": "https://localhost:8080/",
          "height": 390
        },
        "outputId": "9023f6b5-e8d7-49e9-a630-1f188f9ccb7b"
      },
      "source": [
        "model.fit(X_train,y_train,epochs=10,batch_size=64)\n",
        "scores=model.evaluate(X_test,y_test,verbose=0)\n",
        "print(\"Accuracy: %.2f%%\" % (scores[1]*100))\n"
      ],
      "execution_count": 12,
      "outputs": [
        {
          "output_type": "stream",
          "text": [
            "Epoch 1/10\n",
            "391/391 [==============================] - 261s 667ms/step - loss: 0.5469 - accuracy: 0.7157\n",
            "Epoch 2/10\n",
            "391/391 [==============================] - 260s 665ms/step - loss: 0.4158 - accuracy: 0.8168\n",
            "Epoch 3/10\n",
            "391/391 [==============================] - 260s 664ms/step - loss: 0.4660 - accuracy: 0.7848\n",
            "Epoch 4/10\n",
            "391/391 [==============================] - 259s 661ms/step - loss: 0.3966 - accuracy: 0.8264\n",
            "Epoch 5/10\n",
            "391/391 [==============================] - 260s 664ms/step - loss: 0.3685 - accuracy: 0.8399\n",
            "Epoch 6/10\n",
            "391/391 [==============================] - 257s 658ms/step - loss: 0.3595 - accuracy: 0.8474\n",
            "Epoch 7/10\n",
            "391/391 [==============================] - 258s 659ms/step - loss: 0.3594 - accuracy: 0.8456\n",
            "Epoch 8/10\n",
            "391/391 [==============================] - 257s 656ms/step - loss: 0.3494 - accuracy: 0.8487\n",
            "Epoch 9/10\n",
            "391/391 [==============================] - 257s 657ms/step - loss: 0.3385 - accuracy: 0.8545\n",
            "Epoch 10/10\n",
            "391/391 [==============================] - 260s 664ms/step - loss: 0.3275 - accuracy: 0.8614\n",
            "Accuracy: 85.39%\n"
          ],
          "name": "stdout"
        }
      ]
    },
    {
      "cell_type": "code",
      "metadata": {
        "id": "ZiRWK4MULNq2",
        "colab_type": "code",
        "colab": {}
      },
      "source": [
        ""
      ],
      "execution_count": null,
      "outputs": []
    }
  ]
}